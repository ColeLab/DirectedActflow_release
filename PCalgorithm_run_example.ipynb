{
 "cells": [
  {
   "cell_type": "markdown",
   "metadata": {},
   "source": [
    "## notebook detailing the PC algorithm wrapper: PCalgWrapper.py"
   ]
  },
  {
   "cell_type": "code",
   "execution_count": 58,
   "metadata": {},
   "outputs": [],
   "source": [
    "# the PC algorithm is part of the Java Tetrad causal search suite,\n",
    "# repository here: https://github.com/cmu-phil/tetrad\n",
    "# and project website here: https://sites.google.com/view/tetradcausal\n",
    "# Specifically we use the Tetrad command line wrapper: https://github.com/bd2kccd/causal-cmd\n",
    "\n",
    "# We include in our repository the Tetrad command line version we use in Sanchez-Romero et al.(2023)\n",
    "# Importantly, it includes the PC modification where we remove some of the orientation rules\n",
    "# assuming acyclicity in the true model (see Sanchez-Romero et al.(2023) for details).\n",
    "\n",
    "# we provide here an example of a detailed PC algorithm run\n",
    "\n",
    "# Ruben Sanchez-Romero 2023"
   ]
  },
  {
   "cell_type": "code",
   "execution_count": 59,
   "metadata": {},
   "outputs": [],
   "source": [
    "import sys\n",
    "import os\n",
    "import numpy as np\n",
    "import h5py\n",
    "import subprocess\n",
    "import matplotlib.pyplot as plt"
   ]
  },
  {
   "cell_type": "markdown",
   "metadata": {},
   "source": [
    "### single PC run\n",
    "The idea of the PCalgWrapper is to create a string containing PC run commands and call if from system command line. Then transform the output (list of edges) into matrix form."
   ]
  },
  {
   "cell_type": "markdown",
   "metadata": {},
   "source": [
    "#### build the string with PC commands"
   ]
  },
  {
   "cell_type": "code",
   "execution_count": 47,
   "metadata": {},
   "outputs": [
    {
     "name": "stdout",
     "output_type": "stream",
     "text": [
      "java -Xmx20G -jar DirectedActflow_release/tetrad_causal-cmd-1.1.3/causal-cmd-1.1.3-jar-noMeekRules234.jar --thread 360 --algorithm pc-all --stableFAS --concurrentFAS --test fisher-z-test --alpha 0.01 --depth -1 --colliderDiscoveryRule 3 --conflictRule 3 --dataset DirectedActflow_release/temp/example_temp.txt --no-header --data-type continuous --delimiter comma --out DirectedActflow_release/temp --prefix PCgraph_temp --skip-latest  \n"
     ]
    }
   ],
   "source": [
    "# when using Tetrad is recommended to use full paths\n",
    "# adjust paths as necessary!!\n",
    "\n",
    "current_dir = os.getcwd()\n",
    "\n",
    "# 1. PC requires the dataset [timepoints x variables] to be pass as a comma-separated txt file\n",
    "\n",
    "# download an example hcp bold data subject\n",
    "file_name = f'{current_dir}/hcpData/100206_hcpData.h5'\n",
    "f = h5py.File(file_name, 'r')\n",
    "bold_data = np.asarray(f['rest_data']).T # transpose to get [timepoints x variables]\n",
    "# convert the data into a comma-separated txt file and save temporarly\n",
    "input_data = f'{current_dir}/temp/example_temp.txt'\n",
    "np.savetxt(input_data, bold_data, fmt='%0.6f', delimiter=',')        \n",
    "\n",
    "# 2. Define output file dir and name\n",
    "\n",
    "out_dir = f'{current_dir}/temp'\n",
    "out_name = 'PCgraph_temp'  # this is used by Tetrad and needs to be only the file name, no path, no extension!\n",
    "\n",
    "# 3. Define the path where the command line Tetrad Java file is located\n",
    "\n",
    "tetrad_path = f'{current_dir}/tetrad_causal-cmd-1.1.3/causal-cmd-1.1.3-jar-noMeekRules234.jar'\n",
    "        \n",
    "# 4. Define the PC algorithm parameters. See Sanchez-Romero et al.(2023) for details.\n",
    "\n",
    "algorithm = 'pc-all'\n",
    "alpha = 0.01\n",
    "test = 'fisher-z-test'  #z-test conditional independence\n",
    "depth = -1  # maximum size of the conditioning set, -1 is all the variables\n",
    "# Use collider MaxP heuristics from Ramsey (2016) https://arxiv.org/abs/1610.00378\n",
    "# Collider discovery: 1 = Lookup from adjacency sepsets, 2 = Conservative (CPC), 3 = Max-P\n",
    "collider_discovery_rule = 3                \n",
    "# Collider conflicts: 1 = Overwrite, 2 = Orient bidirected, 3 = Prioritize existing colliders\n",
    "conflict_rule = 3                     \n",
    "# input-output parameters\n",
    "data_type = 'continuous'\n",
    "delimiter = 'comma'\n",
    "# others\n",
    "thread = '360'  #for parallelization, usually equal to the number of variables\n",
    "\n",
    "# 5. Form the string to call it from system\n",
    "\n",
    "call_PC = (\n",
    "          f'java -Xmx20G -jar {tetrad_path} ' #Xmx**G is used to allocate memory, increase or decrease accordingly\n",
    "          f'--thread {thread} '\n",
    "          f'--algorithm {algorithm} ' \n",
    "          f'--stableFAS '  # This runs the order independent PC version from Colombo and Maathuis (2014) https://jmlr.org/papers/v15/colombo14a.html\n",
    "          f'--concurrentFAS '  # to run in parallel when possible\n",
    "          f'--test {test} '\n",
    "          f'--alpha {alpha} '\n",
    "          f'--depth {depth} '\n",
    "          f'--colliderDiscoveryRule {collider_discovery_rule} '\n",
    "          f'--conflictRule {conflict_rule} '\n",
    "          f'--dataset {input_data} '\n",
    "          f'--no-header ' # do not use if your data contain headers, ie. 1st row with variable names\n",
    "          f'--data-type {data_type} ' \n",
    "          f'--delimiter {delimiter} '\n",
    "          f'--out {out_dir} '\n",
    "          f'--prefix {out_name} '\n",
    "          f'--skip-latest  '  # to avoid checking if there is a new Tetrad version\n",
    "          )\n",
    "# print to check it looks correct\n",
    "print(call_PC)"
   ]
  },
  {
   "cell_type": "markdown",
   "metadata": {},
   "source": [
    "### run call_PC from system command line"
   ]
  },
  {
   "cell_type": "code",
   "execution_count": 49,
   "metadata": {},
   "outputs": [
    {
     "name": "stdout",
     "output_type": "stream",
     "text": [
      "PC graph for DirectedActflow_release/temp/example_temp.txt in DirectedActflow_release/temp/PCgraph_temp.txt\n"
     ]
    }
   ],
   "source": [
    "# run as is to avoid having temporary output printed in the notebook\n",
    "p = subprocess.call(call_PC,\n",
    "                    shell=True,\n",
    "                    stdout=subprocess.DEVNULL,\n",
    "                    stderr=subprocess.STDOUT)\n",
    "# if want to print the temporary output\n",
    "#p = subprocess.call(call_PC,shell=True)\n",
    "\n",
    "# print if there was an error in the PC run\n",
    "if p != 0:\n",
    "    print(f'{p}, error in the PC run')\n",
    "    print(f' copy call from above and run it from a terminal window')\n",
    "else:\n",
    "    print(f'PC graph for {input_data} in {out_dir}/{out_name}.txt')\n",
    "# TODO print the Tetrad error here. As of today, in case of error I copy the string and call it directly from\n",
    "# a terminal window (outside the notebook) to see the error."
   ]
  },
  {
   "cell_type": "markdown",
   "metadata": {},
   "source": [
    "### open the PC output and transform it into a connectivity matrix"
   ]
  },
  {
   "cell_type": "code",
   "execution_count": 61,
   "metadata": {},
   "outputs": [
    {
     "name": "stdout",
     "output_type": "stream",
     "text": [
      "(360, 360)\n"
     ]
    },
    {
     "data": {
      "text/plain": [
       "<matplotlib.image.AxesImage at 0x7f78c1a134a8>"
      ]
     },
     "execution_count": 61,
     "metadata": {},
     "output_type": "execute_result"
    },
    {
     "data": {
      "image/png": "[encoded data removed]",
      "text/plain": [
       "<Figure size 432x288 with 1 Axes>"
      ]
     },
     "metadata": {
      "needs_background": "light"
     },
     "output_type": "display_data"
    }
   ],
   "source": [
    "# the PCalgWrapper contains a function to open the PC graph and transfrom it into a connectivity matrix\n",
    "# tetrad2matrix encodes directed edges X->Y as 2 (M(y,x) = 2, direction column to row) \n",
    "# and undirected X--Y as 1 (for M(x,y) = M(y,x) = 1)\n",
    "\n",
    "from PCalgWrapper import tetrad2matrix\n",
    "\n",
    "output_graph_file = f'{out_dir}/{out_name}.txt'\n",
    "graph_matrix = tetrad2matrix(output_graph_file)\n",
    "print(graph_matrix.shape)\n",
    "plt.imshow(graph_matrix)"
   ]
  },
  {
   "cell_type": "code",
   "execution_count": null,
   "metadata": {},
   "outputs": [],
   "source": []
  }
 ],
 "metadata": {
  "kernelspec": {
   "display_name": "Python 3",
   "language": "python",
   "name": "python3"
  },
  "language_info": {
   "codemirror_mode": {
    "name": "ipython",
    "version": 3
   },
   "file_extension": ".py",
   "mimetype": "text/x-python",
   "name": "python",
   "nbconvert_exporter": "python",
   "pygments_lexer": "ipython3",
   "version": "3.7.1"
  }
 },
 "nbformat": 4,
 "nbformat_minor": 2
}
