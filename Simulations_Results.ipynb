{
 "cells": [
  {
   "cell_type": "code",
   "execution_count": 169,
   "metadata": {},
   "outputs": [],
   "source": [
    "import numpy as np\n",
    "import matplotlib.pyplot as plt\n",
    "import time\n",
    "import os\n",
    "#in-house functions for directed actflow analysis\n",
    "import pseudoEmpiricalData\n",
    "import featureSelectRegression\n",
    "import PCalg_wrapper #to call the PC algorithm Java package\n",
    "import CombinedFC.CombinedFCToolBox as cfc #repo: https://github.com/ColeLab/CombinedFC\n",
    "import ActflowToolbox as actflow #info: https://colelab.github.io/ActflowToolbox/"
   ]
  },
  {
   "cell_type": "code",
   "execution_count": 118,
   "metadata": {},
   "outputs": [
    {
     "name": "stdout",
     "output_type": "stream",
     "text": [
      "Main parameters of the simulations\n",
      "- number of simulations: 5\n",
      "- number of nodes: 200\n",
      "- connectivity density: 5.0%\n",
      "- edge coefficient range (-0.4,-0.1]U(0.1,0.4]\n",
      "- percentage of negative edges: 10.0%\n",
      "- percentage of two-node cycle edges: 30.0%\n",
      "- aprox. number of three-node cycles: 40\n",
      "- tasks simulated: 1\n",
      "- precentage of nodes directly affected by the task: 10.0%\n",
      "- number of datapoints: 1000\n"
     ]
    }
   ],
   "source": [
    "# import the graphModel module from the CombinedFCToolBox\n",
    "from CombinedFC.CombinedFCToolBox import graphModel\n",
    "\n",
    "#number of repetitions of the simulation\n",
    "num_repetitions = 5\n",
    "\n",
    "# graphical model parameters\n",
    "num_nodes = 200\n",
    "density_edges = 0.05\n",
    "model_type = 'ErdosRenyi'\n",
    "#round and make an int (multiply by 2 because the model reduce the original density by half)\n",
    "num_edges = np.around(density_edges*2*(num_nodes*(num_nodes-1)/2)).astype(int)\n",
    "# number of datapoints for the simulated data\n",
    "sample_size = 1000\n",
    "# coefficients for the weights of the connectivity matrix\n",
    "min_coeff = 0.1\n",
    "max_coeff = 0.4\n",
    "# percentage of negative coefficients\n",
    "p_neg = 0.10\n",
    "\n",
    "#number of tasks to simulate\n",
    "num_tasks = 1\n",
    "#percentage of nodes directly affected by the task: T --> node_i\n",
    "p_nodes = 0.10\n",
    "#number of nodes directly affected by the task for this model\n",
    "Nt = np.around(p_nodes*num_nodes).astype(int)\n",
    "\n",
    "#add cycles\n",
    "#percentage of connections that are also 2-cycles\n",
    "p_2cycles = 0.30\n",
    "#3-cycles as a percentage of the number of nodes\n",
    "p_3cycles = 0.20\n",
    "num_3cycles = np.round(p_3cycles*num_nodes).astype(int)\n",
    "\n",
    "\n",
    "\n",
    "print('Main parameters of the simulations')\n",
    "print(f'- number of simulations: {num_repetitions}')\n",
    "print(f'- number of nodes: {num_nodes}')\n",
    "print(f'- connectivity density: {density_edges*100}%')\n",
    "print(f'- edge coefficient range (-{max_coeff},-{min_coeff}]U({min_coeff},{max_coeff}]')\n",
    "print(f'- percentage of negative edges: {p_neg*100}%')\n",
    "print(f'- percentage of two-node cycle edges: {p_2cycles*100}%')\n",
    "print(f'- aprox. number of three-node cycles: {num_3cycles}')\n",
    "print(f'- tasks simulated: {num_tasks}')\n",
    "print(f'- precentage of nodes directly affected by the task: {p_nodes*100}%')\n",
    "print(f'- number of datapoints: {sample_size}')"
   ]
  },
  {
   "cell_type": "markdown",
   "metadata": {},
   "source": [
    "### simulate data: resting-state, task-state and actual task activations"
   ]
  },
  {
   "cell_type": "code",
   "execution_count": 120,
   "metadata": {},
   "outputs": [
    {
     "name": "stdout",
     "output_type": "stream",
     "text": [
      "- resting state data (X_rest) and actual activations (actual_act) created\n",
      "- the true resting-state network models are in W_rest\n",
      "- for 1 task(s) and 5 simulations\n"
     ]
    }
   ],
   "source": [
    "# simulate data: resting-state, task-state and actual task activations\n",
    "\n",
    "#initialize vectors to save true connectivity models and pseudoempirical data\n",
    "#one resting-state session for each repetition\n",
    "X_rest = np.empty((num_nodes,sample_size,num_repetitions))\n",
    "W_rest = np.empty((num_nodes,num_nodes,num_repetitions))\n",
    "# task state data has the additional dimension of number of tasks\n",
    "# need to add 1 for the task connectivity vector and task variable data\n",
    "X_task = np.empty((num_nodes+1,sample_size,num_tasks,num_repetitions))\n",
    "W_task = np.empty((num_nodes+1,num_nodes+1,num_tasks,num_repetitions))\n",
    "#actual activations\n",
    "actual_act = np.zeros((num_nodes,num_tasks,num_repetitions))\n",
    "\n",
    "\n",
    "for rep in range(num_repetitions):\n",
    "    # 1. Generate the true connectivity network, using the model_type graph model defined above\n",
    "    # M is a binary directed network M[ij]: node_j --> node_i\n",
    "    M = graphModel.graphModel(model_type, num_edges, num_nodes)\n",
    "    \n",
    "    # add two-node cycles to the M network: node_i -> node_j & node_j -> node_i\n",
    "    e = np.where(M==1)\n",
    "    list_edges = np.array([e[0],e[1]])\n",
    "    actual_numEdges = list_edges.shape[1]\n",
    "    # randomly define the two-node cycles from the list of edges\n",
    "    idx = np.random.choice(np.arange(actual_numEdges),np.round(p_2cycles*actual_numEdges).astype(int),\n",
    "                           replace=False)\n",
    "    # add an opposite direction edge to form the two-node cycle\n",
    "    M[list_edges[1,idx],list_edges[0,idx]] = 1\n",
    "\n",
    "    # get the triple of nodes to turn into three-node cycles\n",
    "    # initial random nodes\n",
    "    init_nodes = np.random.choice(np.arange(0,num_nodes-2),num_3cycles,replace=False)\n",
    "    # form the three-node cycle: node_i -> node_j -> node_k -> node_i\n",
    "    for i in init_nodes:\n",
    "        for j in range(i+1,num_nodes-1):\n",
    "            if M[j,i] == 1 and M[i,j] == 0:\n",
    "                for k in range(j+1,num_nodes):\n",
    "                    if M[k,j] == 1 and M[j,k] == 0 and M[k,i] == 0:\n",
    "                        M[i,k] = 1\n",
    "                        break\n",
    "                break\n",
    "\n",
    "    #remove accidentally nested three-node cycles\n",
    "    #for example, i->j->k->i and i->m->k->i\n",
    "    n = 0\n",
    "    triples = [[100000,0,0]]  #just a large number for the 1st comparison\n",
    "    for i in range(0,num_nodes-2):\n",
    "        for j in range(i+1,num_nodes-1):\n",
    "            for k in range(j+1,num_nodes):\n",
    "                #identify three-node cycle: node_i -> node_j -> node_k -> node_i\n",
    "                if M[j,i] == 1 and M[i,j] == 0 and M[k,j] == 1 and M[j,k] == 0 and M[k,i] == 0 and M[i,k] == 1:\n",
    "                    #append to list\n",
    "                    triples.append([i,j,k])\n",
    "                    n = n + 1\n",
    "                    #if nested, remove the three-node cycle from the list\n",
    "                    if triples[n][0] == triples[n-1][0]:\n",
    "                        M[j,i] = 0\n",
    "\n",
    "    # 2. Simulate resting-state connectivity and pseudo-empirical data\n",
    "    # randomly choose a subject from which to sample the data\n",
    "    #subj_data = np.random.choice(num_subjs,1,replace=True)[0]\n",
    "    # choose subject data, only from the resting-state run 1: rfMRI_REST1_RL\n",
    "    #data_hcp = rest_data[:,0:1195,subj_data].T\n",
    "    data_hcp = np.random.normal(5,10,(1195,360))\n",
    "    #simulate resting state data X and connectivity matrix W, using the pseudoEmpirical_data function\n",
    "    X_rest[:,:,rep], W_rest[:,:,rep] = pseudoEmpiricalData.pseudoEmpiricalData(data = data_hcp, \n",
    "                                                               model = M, \n",
    "                                                               sample_size = sample_size,\n",
    "                                                               weights_given = False, \n",
    "                                                               min_coeff = min_coeff, \n",
    "                                                               max_coeff = max_coeff, \n",
    "                                                               p_neg = p_neg)\n",
    "    \n",
    "    \n",
    "    # 3. Simulate task-state connectivity. One loop for each task\n",
    "    for j in range(num_tasks):\n",
    "        # initialize the new task matrix coefficents with a copy of the rest network\n",
    "        M_task = W_rest[:,:,rep].copy()\n",
    "        # compute the number of edges of the task connectivity matrix\n",
    "        num_edges_task = np.sum(M_task != 0) \n",
    "        # define the task network based on the resting-state network\n",
    "        # with some random variance added to the coefficients.\n",
    "        # add some variability to the coefficients so they do not end up being exactly the same as W_rest\n",
    "        # by summing or subtracting one standard deviation to the coefficient, or doing nothing.\n",
    "        std_coeff = np.std(M_task[M_task > 0].flatten())\n",
    "        # make a vector to randomly decide if std_coeff should be added, subtracted or do nothing\n",
    "        aux_vec = np.random.choice([+std_coeff,-std_coeff,0],size=(1,num_edges_task))\n",
    "        # create a new vector with the modfied values\n",
    "        task_weights = M_task[M_task.nonzero()] + aux_vec\n",
    "        # assign the new values to their position in M_task\n",
    "        M_task[M_task.nonzero()] =  task_weights\n",
    "        \n",
    "        # 4. Add the Task connectivity vector: which nodes are affected by the task variable\n",
    "        # sample Nt nodes from a num_nodes elements vector, without replacement to avoid choosing a node more than once\n",
    "        task_nodes = np.random.choice(np.arange(num_nodes),size=[1,Nt],replace=False)\n",
    "        # build the Task connectivity vector T\n",
    "        T = np.zeros((num_nodes,1))\n",
    "        # and assign a task-coefficient to the nodes affected by the task\n",
    "        T[task_nodes,0] = np.random.uniform(min_coeff,max_coeff, size=(1,Nt))\n",
    "        # add the T vector to the nodes connectivity matrix M_task\n",
    "        M_task = np.concatenate((M_task,T),axis=1)\n",
    "        # add a last row of zeros to make the matrix square\n",
    "        pad = np.zeros((1,num_nodes+1))\n",
    "        M_task = np.concatenate((M_task,pad), axis=0)\n",
    "        \n",
    "        #5. Create pseudo-empirical task-state data\n",
    "        #choose subject data, only from the resting-state run 1: rfMRI_REST1_RL\n",
    "        #data_hcp = rest_data[:,0:1195,subj_data].T\n",
    "        #simulate task data X and task connectivity matrix W, using the pseudo_data function\n",
    "        X_task[:,:,j,rep], W_task[:,:,j,rep] = pseudoEmpiricalData.pseudoEmpiricalData(data = data_hcp, \n",
    "                                                                   model = M_task, \n",
    "                                                                   sample_size = sample_size, \n",
    "                                                                   weights_given = True)\n",
    "        \n",
    "        \n",
    "        #6. compute the task activations using a GLM\n",
    "        data = X_task[:,:,j,rep].copy() #reshape to [datapoints x nodes]\n",
    "        for i in range(num_nodes):\n",
    "            #regress each node onto the task: task causal effect\n",
    "            #use reshape to convert 1D to proper 2D arrays for linear regression call\n",
    "            y = np.reshape(data[i,:],(-1,1))\n",
    "            #the task variable data is the last element of the data = X_task\n",
    "            task = np.reshape(data[-1,:],(-1,1))\n",
    "            #use the combinedFC toolbox function for regression\n",
    "            #no significance test threshold, use all the values.\n",
    "            b = cfc.simpleRegressionSig(y, task, sigTest = False)\n",
    "            # save the actual activations values [nodes x task x repetition]\n",
    "            actual_act[i,j,rep] = b\n",
    "            \n",
    "print('- resting state data (X_rest) and actual activations (actual_act) created')\n",
    "print('- the true resting-state network models are in W_rest')\n",
    "print(f'- for {num_tasks} task(s) and {num_repetitions} simulations')"
   ]
  },
  {
   "cell_type": "code",
   "execution_count": 123,
   "metadata": {},
   "outputs": [
    {
     "data": {
      "image/png": "[encoded data removed]",
      "text/plain": [
       "<Figure size 432x288 with 2 Axes>"
      ]
     },
     "metadata": {
      "needs_background": "light"
     },
     "output_type": "display_data"
    }
   ],
   "source": [
    "plt.imshow(W_rest[:,:,0])\n",
    "plt.colorbar()\n",
    "plt.title('example of true connectivity network')\n",
    "plt.xlabel('source nodes')\n",
    "plt.ylabel('target nodes')\n",
    "plt.show()"
   ]
  },
  {
   "cell_type": "markdown",
   "metadata": {},
   "source": [
    "### Functional connectivity (FC) analysis"
   ]
  },
  {
   "cell_type": "markdown",
   "metadata": {},
   "source": [
    "### correlation"
   ]
  },
  {
   "cell_type": "code",
   "execution_count": 126,
   "metadata": {},
   "outputs": [
    {
     "name": "stdout",
     "output_type": "stream",
     "text": [
      "- correlation FC matrices and activity flow predictions computed\n",
      "- for 1 task(s) and 5 simulations\n",
      "CPU times: user 146 ms, sys: 23.9 ms, total: 170 ms\n",
      "Wall time: 135 ms\n"
     ]
    }
   ],
   "source": [
    "%%time\n",
    "# correlation analysis of the resting-state data X_rest using combinedFC toolbox\n",
    "m_corr = np.empty((num_nodes,num_nodes,num_repetitions))\n",
    "pred_act_corr = np.empty((num_nodes,num_tasks,num_repetitions))\n",
    "time_corr = np.empty((num_repetitions,))\n",
    "\n",
    "for rep in range(num_repetitions):\n",
    "    start = time.time()\n",
    "    # FC computation\n",
    "    m_corr[:,:,rep] = cfc.correlationSig(X_rest[:,:,rep].T, alpha = 0.01)\n",
    "    #activity flow calculation using activity flow toolbox\n",
    "    for j in range(num_tasks):\n",
    "        pred_act_corr[:,j,rep] = actflow.actflowcalc(actual_act[:,j,rep], m_corr[:,:,rep])\n",
    "    #save running time\n",
    "    time_corr[rep] = time.time() - start\n",
    "\n",
    "print('- correlation FC matrices and activity flow predictions computed')\n",
    "print(f'- for {num_tasks} task(s) and {num_repetitions} simulations')"
   ]
  },
  {
   "cell_type": "markdown",
   "metadata": {},
   "source": [
    "### multiple regression"
   ]
  },
  {
   "cell_type": "code",
   "execution_count": 131,
   "metadata": {},
   "outputs": [
    {
     "name": "stdout",
     "output_type": "stream",
     "text": [
      "- multiple regression FC matrices and activity flow predictions computed\n",
      "- for 1 task(s) and 5 simulations\n",
      "CPU times: user 56.2 s, sys: 264 ms, total: 56.5 s\n",
      "Wall time: 16.4 s\n"
     ]
    }
   ],
   "source": [
    "%%time\n",
    "#multiple regression analysis of the resting-state data X_rest using combinedFC toolbox\n",
    "m_mreg = np.empty((num_nodes,num_nodes,num_repetitions))\n",
    "pred_act_mreg = np.empty((num_nodes,num_tasks,num_repetitions))\n",
    "time_mreg = np.empty((num_repetitions,))\n",
    "\n",
    "for rep in range(num_repetitions):\n",
    "    start = time.time()\n",
    "    # FC computation\n",
    "    m_mreg[:,:,rep] = cfc.multipleRegressionSig(X_rest[:,:,rep].T, alpha = 0.01, sigTest = True)\n",
    "    # activity flow calculation using activity flow toolbox\n",
    "    for j in range(num_tasks):\n",
    "        pred_act_mreg[:,j,rep] = actflow.actflowcalc(actual_act[:,j,rep], m_mreg[:,:,rep])\n",
    "    #save running time\n",
    "    time_mreg[rep] = time.time() - start\n",
    "\n",
    "print('- multiple regression FC matrices and activity flow predictions computed')\n",
    "print(f'- for {num_tasks} task(s) and {num_repetitions} simulations')"
   ]
  },
  {
   "cell_type": "markdown",
   "metadata": {},
   "source": [
    "### combinedFC"
   ]
  },
  {
   "cell_type": "code",
   "execution_count": 127,
   "metadata": {},
   "outputs": [
    {
     "name": "stdout",
     "output_type": "stream",
     "text": [
      "- combinedFC matrices and activity flow predictions computed\n",
      "- for 1 task(s) and 5 simulations\n",
      "CPU times: user 1.67 s, sys: 37.1 ms, total: 1.71 s\n",
      "Wall time: 985 ms\n"
     ]
    }
   ],
   "source": [
    "%%time\n",
    "#combinedFC with feature selection analysis of resting-state data X_rest\n",
    "m_cfc =  np.empty((num_nodes,num_nodes,num_repetitions))\n",
    "pred_act_cfc = np.empty((num_nodes,num_tasks,num_repetitions))\n",
    "time_cfc = np.empty((num_repetitions,))\n",
    "\n",
    "for rep in range(num_repetitions):\n",
    "    start = time.time()\n",
    "    # FC computation\n",
    "    data = X_rest[:,:,rep].T\n",
    "    M_aux = cfc.combinedFC(data,\n",
    "                         methodCondAsso = 'partialCorrelation',\n",
    "                         alphaCondAsso = 0.01,\n",
    "                         methodAsso = 'correlation',\n",
    "                         alphaAsso = 0.10)\n",
    "    \n",
    "    m_cfc[:,:,rep] = featureSelectRegression.featureSelectRegression(M_aux, data, typ='symmetric')\n",
    "    # activity flow calculation using activity flow toolbox    \n",
    "    for j in range(num_tasks):\n",
    "        pred_act_cfc[:,j,rep] = actflow.actflowcalc(actual_act[:,j,rep], m_cfc[:,:,rep])\n",
    "    #save running time\n",
    "    time_cfc[rep] = time.time() - start\n",
    "    \n",
    "print('- combinedFC matrices and activity flow predictions computed')\n",
    "print(f'- for {num_tasks} task(s) and {num_repetitions} simulations')"
   ]
  },
  {
   "cell_type": "markdown",
   "metadata": {},
   "source": [
    "### PC algorithm and PC-adjacencies"
   ]
  },
  {
   "cell_type": "code",
   "execution_count": 139,
   "metadata": {},
   "outputs": [
    {
     "name": "stdout",
     "output_type": "stream",
     "text": [
      "graph 0\n",
      "graph 1\n",
      "graph 2\n",
      "graph 3\n",
      "graph 4\n",
      "- PC and PC-adjacencies matrices and activity flow predictions computed\n",
      "- for 1 task(s) and 5 simulations\n",
      "CPU times: user 3.23 s, sys: 133 ms, total: 3.37 s\n",
      "Wall time: 42.9 s\n"
     ]
    }
   ],
   "source": [
    "%%time\n",
    "#PC algorithm FC analysis of resting-state data X_rest\n",
    "m_PC =  np.empty((num_nodes,num_nodes,num_repetitions))\n",
    "pred_act_PC = np.empty((num_nodes,num_tasks,num_repetitions))\n",
    "time_PC = np.empty((num_repetitions,))\n",
    "#PC-adjacencies\n",
    "m_PCadj =  np.empty((num_nodes,num_nodes,num_repetitions))\n",
    "pred_act_PCadj = np.empty((num_nodes,num_tasks,num_repetitions))\n",
    "time_PCadj = np.empty((num_repetitions,))\n",
    "\n",
    "current_dir = os.getcwd()\n",
    "\n",
    "for rep in range(num_repetitions):\n",
    "    startPC = time.time()\n",
    "    # FC computation\n",
    "    #temporary save data for PC. The algorithm requires a txt file as input\n",
    "    data = X_rest[:,:,rep].T\n",
    "    #reuse the same name to avoid ending up with too many txt files\n",
    "    inputData = f'{current_dir}/temp/data_temp.txt'\n",
    "    np.savetxt(inputData, data, fmt='%0.6f', delimiter=',')\n",
    "    #define output directory, output file name and Tetrad software path\n",
    "    outDir = f'{current_dir}/temp'\n",
    "    outName = 'PCgraph_temp'\n",
    "    tetrad_path = f'{current_dir}/tetrad_causal-cmd-1.1.3/causal-cmd-1.1.3-jar-noMeekRules234.jar'\n",
    "    #call PC\n",
    "    PCalg_wrapper.PCalg_run(inputData, outDir, outName, tetrad_path, alpha = 0.01)\n",
    "    #transform the PC output graph into a numpy array\n",
    "    PC_graph = PCalg_wrapper.tetrad2matrix(f'{outDir}/{outName}.txt')\n",
    "    time_search_PC = time.time() - startPC\n",
    "    print(f'graph {rep}')\n",
    "    \n",
    "    #Use the set of parents as regressors y = bPa(X) + e, to get a weighted directed matrix\n",
    "    start = time.time()\n",
    "    m_PC[:,:,rep] = featureSelectRegression.featureSelectRegression(PC_graph, data, typ='parents')\n",
    "    #activity flow calculation using activity flow toolbox\n",
    "    for j in range(num_tasks):\n",
    "        pred_act_PC[:,j,rep] = actflow.actflowcalc(actual_act[:,j,rep], m_PC[:,:,rep])\n",
    "    #running time is the PC search time + computation of weights time + actflowcalc    \n",
    "    time_PC[rep] = (time.time() - start) + time_search_PC\n",
    "\n",
    "    #Use the adjacencies of the PC results: parents and children: y = bPa(X) + cCh(x),\n",
    "    start = time.time()\n",
    "    m_PCadj[:,:,rep] = featureSelectRegression.featureSelectRegression(PC_graph, data, typ='adjacencies')\n",
    "    #activity flow calculation using activity flow toolbox\n",
    "    for j in range(num_tasks): \n",
    "        pred_act_PCadj[:,j,rep] = actflow.actflowcalc(actual_act[:,j,rep], m_PCadj[:,:,rep])\n",
    "    time_PCadj[rep] = (time.time() - start) + time_search_PC\n",
    "    \n",
    "        \n",
    "print('- PC and PC-adjacencies matrices and activity flow predictions computed')\n",
    "print(f'- for {num_tasks} task(s) and {num_repetitions} simulations')"
   ]
  },
  {
   "cell_type": "markdown",
   "metadata": {},
   "source": [
    "### plot adjacency network recovery results"
   ]
  },
  {
   "cell_type": "code",
   "execution_count": 129,
   "metadata": {},
   "outputs": [],
   "source": [
    "#compute goodness of recovery of true resting-state networks\n",
    "#use precision and recall as measures. See Figure 2 in paper for details\n",
    "#use precision and recall functions from the combinedFC toolbox\n",
    "def accuracy_connectivity(inferred_model, true_model):\n",
    "    ''''\n",
    "    both input arrays should be dim:[num_nodes x num_nodes x num_repetitions]\n",
    "    '''\n",
    "    #get the number of repetitions. it should be the 3rd dimension of inferred_model\n",
    "    num_repetitions = inferred_model.shape[2]\n",
    "    #initialize arrays for results\n",
    "    precision = np.empty((num_repetitions))\n",
    "    recall = np.empty((num_repetitions))\n",
    "    \n",
    "    for rep in range(num_repetitions):\n",
    "        # precision = true positives / [true positives + false positives]\n",
    "        precision[rep] = cfc.precision(inferred_model[:,:,rep], true_model[:,:,rep])\n",
    "        # recall = true positives / [true positives + false negatives]\n",
    "        recall[rep] = cfc.recall(inferred_model[:,:,rep], true_model[:,:,rep])\n",
    "    return precision, recall"
   ]
  },
  {
   "cell_type": "code",
   "execution_count": 148,
   "metadata": {},
   "outputs": [
    {
     "name": "stdout",
     "output_type": "stream",
     "text": [
      "median precision across 5 repetitions\n",
      " correlation   : 0.0704\n",
      " mul.reg       : 0.5661\n",
      " combinedFC    : 0.5991\n",
      " PC-adjacencies: 0.9055\n",
      " PC algorithm  : 0.9055\n"
     ]
    },
    {
     "data": {
      "image/png": "[encoded data removed]",
      "text/plain": [
       "<Figure size 468x360 with 1 Axes>"
      ]
     },
     "metadata": {
      "needs_background": "light"
     },
     "output_type": "display_data"
    },
    {
     "name": "stdout",
     "output_type": "stream",
     "text": [
      "median recall across 5 repetitions\n",
      " correlation   : 0.8831\n",
      " mul.reg       : 0.8527\n",
      " combinedFC    : 0.8075\n",
      " PC-adjacencies: 0.4332\n",
      " PC algorithm  : 0.4332\n"
     ]
    },
    {
     "data": {
      "image/png": "[encoded data removed]",
      "text/plain": [
       "<Figure size 468x360 with 1 Axes>"
      ]
     },
     "metadata": {
      "needs_background": "light"
     },
     "output_type": "display_data"
    }
   ],
   "source": [
    "#call the accuracy computation function for each FC method tested\n",
    "#W_rest contains the true resting-state connectivity matrices\n",
    "corr_precision, corr_recall = accuracy_connectivity(m_corr, W_rest)  \n",
    "mreg_precision, mreg_recall = accuracy_connectivity(m_mreg, W_rest)  \n",
    "cfc_precision, cfc_recall = accuracy_connectivity(m_cfc, W_rest)  \n",
    "PC_precision, PC_recall = accuracy_connectivity(m_PC, W_rest)  \n",
    "PCadj_precision, PCadj_recall = accuracy_connectivity(m_PCadj,W_rest)  \n",
    "\n",
    "#consolidate precision results for bar plotting\n",
    "results_precision = [corr_precision, mreg_precision, cfc_precision, PCadj_precision, PC_precision]\n",
    "#print median precision across repetitions for each method\n",
    "print(f'median precision across {num_repetitions} repetitions')\n",
    "print(f' correlation   : {np.median(corr_precision):.4f}')\n",
    "print(f' mul.reg       : {np.median(mreg_precision):.4f}')\n",
    "print(f' combinedFC    : {np.median(cfc_precision):.4f}')\n",
    "print(f' PC-adjacencies: {np.median(PCadj_precision):.4f}')\n",
    "print(f' PC algorithm  : {np.median(PC_precision):.4f}')\n",
    "#plot\n",
    "fig, ax = plt.subplots(figsize=(6.5,5)) \n",
    "bp = ax.boxplot(results_precision,showfliers=False,patch_artist = True)\n",
    "for box in bp['boxes']:\n",
    "    # change fill color\n",
    "    box.set( facecolor = 'white' )\n",
    "for median in bp['medians']:\n",
    "    median.set(linewidth=2)\n",
    "plt.title('Network recovery: Precision',fontsize=20)\n",
    "plt.yticks(fontsize=17)\n",
    "plt.tick_params(axis='x',direction='inout',length=10)\n",
    "plt.ylim(0,1)\n",
    "plt.xticks(np.arange(1,6,1),('corr','mulReg','combFC','PCadj','PC'),fontsize=17,rotation=0)\n",
    "ax.spines['top'].set_visible(False)\n",
    "ax.spines['right'].set_visible(False)\n",
    "ax.set_facecolor('whitesmoke')\n",
    "ax.grid(True,color='white',linewidth=2)\n",
    "plt.show()\n",
    "# uncomment to save the plot as a pdf file \n",
    "#plt.savefig('SimulationPrecision.pdf',bbox_inches='tight')\n",
    "\n",
    "\n",
    "#consolidate recall results\n",
    "results_recall = [corr_recall, mreg_recall, cfc_recall,PCadj_recall,PC_recall]\n",
    "#print median recall across across repetitions for each method\n",
    "print(f'median recall across {num_repetitions} repetitions')\n",
    "print(f' correlation   : {np.median(corr_recall):.4f}')\n",
    "print(f' mul.reg       : {np.median(mreg_recall):.4f}')\n",
    "print(f' combinedFC    : {np.median(cfc_recall):.4f}')\n",
    "print(f' PC-adjacencies: {np.median(PCadj_recall):.4f}')\n",
    "print(f' PC algorithm  : {np.median(PC_recall):.4f}')\n",
    "#plot\n",
    "fig, ax = plt.subplots(figsize=(6.5,5)) \n",
    "bp = ax.boxplot(results_recall,showfliers=False,patch_artist = True)\n",
    "for box in bp['boxes']:\n",
    "    # change fill color\n",
    "    box.set( facecolor = 'white' )\n",
    "for median in bp['medians']:\n",
    "    median.set(linewidth=2)\n",
    "plt.title('Network recovery: Recall',fontsize=20)\n",
    "plt.yticks(fontsize=17)\n",
    "plt.tick_params(axis='x',direction='inout',length=10)\n",
    "plt.ylim(0,1)\n",
    "plt.xticks(np.arange(1,6,1),('corr','mulReg','combFC','PCadj','PC'),fontsize=17,rotation=0)\n",
    "ax.spines['top'].set_visible(False)\n",
    "ax.spines['right'].set_visible(False)\n",
    "ax.set_facecolor('whitesmoke')\n",
    "ax.grid(True,color='white',linewidth=2)\n",
    "plt.show()\n",
    "# uncomment to save the plot as a pdf file\n",
    "#plt.savefig('SimulationRecall.pdf',bbox_inches='tight')"
   ]
  },
  {
   "cell_type": "markdown",
   "metadata": {},
   "source": [
    "### plot activity flow predicted activations"
   ]
  },
  {
   "cell_type": "code",
   "execution_count": 134,
   "metadata": {},
   "outputs": [],
   "source": [
    "#compute accuracy of activity flow predictions using Pearson correlation.\n",
    "def accuracy_activations(predicted_act, actual_act):\n",
    "    '''\n",
    "    both input arrays should be dim:[num_nodes x num_tasks x num_repetitions]\n",
    "    '''\n",
    "    #get the number of repetitions. it should be the 3rd dimension of predicted_act array\n",
    "    num_repetitions = predicted_act.shape[2]\n",
    "    num_tasks = predicted_act.shape[1]\n",
    "    #initialize array for results\n",
    "    acc = np.empty((num_repetitions,num_tasks))\n",
    "    #compute correlation between the predicted and actual vector of predictions node-wise\n",
    "    #independently for each task\n",
    "    for j in range(num_tasks):\n",
    "        for rep in range(num_repetitions):\n",
    "            acc[rep,j] = np.corrcoef(actual_act[:,j,rep],predicted_act[:,j,rep])[0,1]\n",
    "    return acc"
   ]
  },
  {
   "cell_type": "code",
   "execution_count": 149,
   "metadata": {},
   "outputs": [
    {
     "name": "stdout",
     "output_type": "stream",
     "text": [
      "median prediction accuracy (r) across 5 repetitions and 1 task(s)\n",
      " correlation   : 0.6568\n",
      " mul.reg       : 0.8882\n",
      " combinedFC    : 0.9155\n",
      " PC-adjacencies: 0.8780\n",
      " PC algorithm  : 0.7561\n"
     ]
    },
    {
     "data": {
      "image/png": "[encoded data removed]",
      "text/plain": [
       "<Figure size 468x360 with 1 Axes>"
      ]
     },
     "metadata": {
      "needs_background": "light"
     },
     "output_type": "display_data"
    }
   ],
   "source": [
    "#compute activity flow predictions for each method\n",
    "#if there are more than 1 task, first average results across task for each subject\n",
    "corr_acc = np.mean(accuracy_activations(actual_act, pred_act_corr),axis=1)  \n",
    "mreg_acc = np.mean(accuracy_activations(actual_act, pred_act_mreg),axis=1)\n",
    "cfc_acc = np.mean(accuracy_activations(actual_act, pred_act_cfc),axis=1)\n",
    "PCadj_acc = np.mean(accuracy_activations(actual_act, pred_act_PCadj),axis=1) \n",
    "PC_acc = np.mean(accuracy_activations(actual_act, pred_act_PC),axis=1)  \n",
    "\n",
    "#consolidate results for bar plotting\n",
    "results_prediction = [corr_acc, mreg_acc, cfc_acc, PCadj_acc, PC_acc]\n",
    "#print median precision across repetitions for each method\n",
    "print(f'median prediction accuracy (r) across {num_repetitions} repetitions and {num_tasks} task(s)')\n",
    "print(f' correlation   : {np.median(corr_acc):.4f}')\n",
    "print(f' mul.reg       : {np.median(mreg_acc):.4f}')\n",
    "print(f' combinedFC    : {np.median(cfc_acc):.4f}')\n",
    "print(f' PC-adjacencies: {np.median(PCadj_acc):.4f}')\n",
    "print(f' PC algorithm  : {np.median(PC_acc):.4f}')\n",
    "#plot\n",
    "fig, ax = plt.subplots(figsize=(6.5,5)) \n",
    "bp = ax.boxplot(results_prediction,showfliers=False,patch_artist = True)\n",
    "for box in bp['boxes']:\n",
    "    # change fill color\n",
    "    box.set( facecolor = 'white' )\n",
    "for median in bp['medians']:\n",
    "    median.set(linewidth=2)\n",
    "plt.title('Actflow prediction accuracy', fontsize=20)\n",
    "plt.ylabel('Pearson r',fontsize=20)\n",
    "plt.yticks(fontsize=17)\n",
    "plt.tick_params(axis='x',direction='inout',length=10)\n",
    "plt.ylim(0,1)\n",
    "plt.xticks(np.arange(1,6,1),('corr','mulReg','combFC','PCadj','PC'),fontsize=17,rotation=0)\n",
    "ax.spines['top'].set_visible(False)\n",
    "ax.spines['right'].set_visible(False)\n",
    "ax.set_facecolor('whitesmoke')\n",
    "ax.grid(True,color='white',linewidth=2)\n",
    "# uncomment to save plot as pdf\n",
    "#plt.savefig('SimulationPredictionAccuracy.pdf',bbox_inches='tight')"
   ]
  },
  {
   "cell_type": "markdown",
   "metadata": {},
   "source": [
    "### plot number of predictors for activity flow prediction"
   ]
  },
  {
   "cell_type": "code",
   "execution_count": 136,
   "metadata": {},
   "outputs": [],
   "source": [
    "#number of possible predictors (also known as compactness)\n",
    "#the more predictors (sources), the more complex, and less tractable is the predictive model\n",
    "def compactness(inferred_model):\n",
    "    num_repetitions = inferred_model.shape[2]\n",
    "    compact = np.empty((num_repetitions))\n",
    "    for rep in range(num_repetitions):\n",
    "        #average of number of sources across all the nodes in the inferred network\n",
    "        compact[rep] = np.mean(np.sum(inferred_model[:,:,rep]!=0,axis=1))   \n",
    "    return compact"
   ]
  },
  {
   "cell_type": "code",
   "execution_count": 154,
   "metadata": {},
   "outputs": [
    {
     "name": "stdout",
     "output_type": "stream",
     "text": [
      "median number of predictors across 5 repetitions\n",
      " correlation   : 127.76\n",
      " mul.reg       : 15.74\n",
      " combinedFC    : 13.94\n",
      " PC-adjacencies: 4.87\n",
      " PC algorithm  : 2.435\n",
      "median indegree of the true networks is: 6.69\n"
     ]
    },
    {
     "data": {
      "image/png": "[encoded data removed]",
      "text/plain": [
       "<Figure size 468x360 with 1 Axes>"
      ]
     },
     "metadata": {
      "needs_background": "light"
     },
     "output_type": "display_data"
    }
   ],
   "source": [
    "#define average number of predictors for each method, for the inferred FC network\n",
    "corr_compact = compactness(m_corr)\n",
    "mreg_compact = compactness(m_mreg)\n",
    "cfc_compact = compactness(m_cfc)\n",
    "PCadj_compact = compactness(m_PCadj)\n",
    "PC_compact = compactness(m_PC)\n",
    "#consolidate results for bar plot\n",
    "results_compactness = [corr_compact,mreg_compact, cfc_compact, PCadj_compact, PC_compact]\n",
    "#print median number of predictors across repetitions for each method\n",
    "print(f'median number of predictors across {num_repetitions} repetitions')\n",
    "print(f' correlation   : {np.median(corr_compact)}')\n",
    "print(f' mul.reg       : {np.median(mreg_compact)}')\n",
    "print(f' combinedFC    : {np.median(cfc_compact)}')\n",
    "print(f' PC-adjacencies: {np.median(PCadj_compact)}')\n",
    "print(f' PC algorithm  : {np.median(PC_compact)}')\n",
    "#the median in-degree of the true models, for comparison\n",
    "indegree = np.empty((num_repetitions))\n",
    "for rep in range(num_repetitions):\n",
    "    #average of number of sources across all the nodes in the inferred network\n",
    "    indegree[rep] = np.mean(np.sum(W_rest[:,:,rep]!=0,axis=1))\n",
    "print(f'median indegree of the true networks is: {np.median(indegree)}')   \n",
    "#plot\n",
    "fig, ax = plt.subplots(figsize=(6.5,5)) \n",
    "bp = ax.boxplot(results_compactness,showfliers=False,patch_artist = True)\n",
    "for box in bp['boxes']:\n",
    "    # change fill color\n",
    "    box.set( facecolor = 'white' )\n",
    "for median in bp['medians']:\n",
    "    median.set(linewidth=2)\n",
    "plt.title('Number of predictors',fontsize=20)\n",
    "plt.yticks(fontsize=17)\n",
    "plt.tick_params(axis='x',direction='inout',length=10)\n",
    "plt.yscale('log')\n",
    "plt.ylabel('log scale', fontsize=20)\n",
    "plt.xticks(np.arange(1,6,1),('corr','mulReg','combFC','PCadj','PC'),fontsize=17,rotation=0)\n",
    "ax.spines['top'].set_visible(False)\n",
    "ax.spines['right'].set_visible(False)\n",
    "ax.set_facecolor('whitesmoke')\n",
    "ax.grid(True,color='white',linewidth=2)\n",
    "# uncomment to save plot as pdf\n",
    "#plt.savefig('SimulationNumberOfPredictors_log.pdf',bbox_inches='tight')"
   ]
  },
  {
   "cell_type": "markdown",
   "metadata": {},
   "source": [
    "### plot running time"
   ]
  },
  {
   "cell_type": "code",
   "execution_count": 155,
   "metadata": {},
   "outputs": [
    {
     "name": "stdout",
     "output_type": "stream",
     "text": [
      "median running time (sec) across 5 repetitions\n",
      " correlation   : 0.0174\n",
      " mul.reg       : 3.3066\n",
      " combinedFC    : 0.1870\n",
      " PC-adjacencies: 7.7435\n",
      " PC algorithm  : 7.7333\n"
     ]
    },
    {
     "data": {
      "image/png": "[encoded data removed]",
      "text/plain": [
       "<Figure size 468x360 with 1 Axes>"
      ]
     },
     "metadata": {
      "needs_background": "light"
     },
     "output_type": "display_data"
    }
   ],
   "source": [
    "#consolidate results for barplots\n",
    "results_time = [time_corr, time_mreg, time_cfc,time_PCadj,time_PC]\n",
    "#print median running times across repetitions for each method\n",
    "print(f'median running time (sec) across {num_repetitions} repetitions')\n",
    "print(f' correlation   : {np.median(time_corr):.4f}')\n",
    "print(f' mul.reg       : {np.median(time_mreg):.4f}')\n",
    "print(f' combinedFC    : {np.median(time_cfc):.4f}')\n",
    "print(f' PC-adjacencies: {np.median(time_PCadj):.4f}')\n",
    "print(f' PC algorithm  : {np.median(time_PC):.4f}')\n",
    "#plot\n",
    "fig, ax = plt.subplots(figsize=(6.5,5)) \n",
    "bp = ax.boxplot(results_time,showfliers=False,patch_artist = True)\n",
    "for box in bp['boxes']:\n",
    "    # change fill color\n",
    "    box.set( facecolor = 'white' )\n",
    "for median in bp['medians']:\n",
    "    median.set(linewidth=2)\n",
    "plt.title('Running time',fontsize=20,y=1.02)\n",
    "plt.yticks(fontsize=17)\n",
    "plt.tick_params(axis='x',direction='inout',length=10)\n",
    "plt.ylabel('seconds',fontsize=20)\n",
    "plt.xticks(np.arange(1,6,1),('corr','mulReg','combFC','PCadj','PC'),fontsize=17,rotation=0)\n",
    "ax.spines['top'].set_visible(False)\n",
    "ax.spines['right'].set_visible(False)\n",
    "ax.set_facecolor('whitesmoke')\n",
    "ax.grid(True,color='white',linewidth=2)\n",
    "# uncomment to save plot as pdf\n",
    "#plt.savefig('SimulationRunningTimes.pdf', bbox_inches='tight')"
   ]
  },
  {
   "cell_type": "markdown",
   "metadata": {},
   "source": [
    "### Accuracy of edge orientation for the PC algorithm "
   ]
  },
  {
   "cell_type": "code",
   "execution_count": 168,
   "metadata": {},
   "outputs": [
    {
     "name": "stdout",
     "output_type": "stream",
     "text": [
      "- proportion of correctly oriented, true positive adjacencies for the PC algorithm\n",
      "- median across 5 repetitions\n",
      "81.8841%\n"
     ]
    }
   ],
   "source": [
    "#compute the proportion of correctly oriented edges from the correctly inferred adjacencies (true positives)\n",
    "def accuracy_orientations(inferred_model, true_model):\n",
    "    #get the number of repetitions. it should be the 3rd dimension of the inferred_model\n",
    "    num_repetitions = inferred_model.shape[2]\n",
    "    correct_orientations = np.empty((num_repetitions))\n",
    "    for rep in range(num_repetitions):\n",
    "        correct_orientations[rep] = correctOrientations(inferred_model[:,:,rep], true_model[:,:,rep])\n",
    "    return correct_orientations\n",
    "\n",
    "def correctOrientations(inferred_model, true_model):\n",
    "    #Binarize the inferred connectivity network and the true connectivity network\n",
    "    inferred_model = (inferred_model != 0).astype(int)\n",
    "    true_model = (true_model != 0).astype(int)\n",
    "    num_nodes = inferred_model.shape[0]\n",
    "    #Number of correctly oriented edges\n",
    "    c_o = 0   \n",
    "    #loop through each pair of nodes\n",
    "    for i in range(num_nodes-1):\n",
    "        for j in range(i+1,num_nodes):\n",
    "            #unidirectional edge j-->i\n",
    "            if true_model[i,j] == 1 and true_model[j,i] == 0 and inferred_model[i,j] == 1:\n",
    "                c_o = c_o + 1\n",
    "            #unidirectional edge i-->j\n",
    "            elif true_model[i,j] == 0 and true_model[j,i] == 1 and inferred_model[j,i] == 1:\n",
    "                c_o = c_o + 1\n",
    "            #two-node cycles\n",
    "            elif true_model[i,j] == 1 and true_model[j,i] == 1:\n",
    "                #any of the inferred directions is considered correct\n",
    "                if inferred_model[i,j] == 1 or inferred_model[j,i] == 1:\n",
    "                    c_o = c_o + 1 \n",
    "    \n",
    "    #Number of true positive edges\n",
    "    #given that these are adjacencies, we can symmetrize the matrix and just count\n",
    "    #the upper triangular\n",
    "    true_aux = true_model + true_model.T #make the matrix symmetrix\n",
    "    true_aux = (true_aux != 0).astype(int) #binarize\n",
    "    Tp = 0\n",
    "    for i in range(num_nodes-1):\n",
    "        for j in range(i+1,num_nodes):\n",
    "            if true_aux[i,j] == 1 and inferred_model[i,j] == 1 or true_aux[i,j] == 1 and inferred_model[j,i] == 1:\n",
    "                Tp = Tp + 1            \n",
    "    \n",
    "    #return the proportion of corrently oriented true positive adjacencies.\n",
    "    return c_o/Tp\n",
    "\n",
    "#compute the proportion of corrently oriented, true positive adjacencies for PC\n",
    "PC_correct_orientations = accuracy_orientations(m_PC, W_rest)\n",
    "print('- proportion of correctly oriented, true positive adjacencies for the PC algorithm')\n",
    "print(f'- median across {num_repetitions} repetitions')\n",
    "print(f'{np.median(PC_correct_orientations)*100:.4f}%')"
   ]
  },
  {
   "cell_type": "code",
   "execution_count": null,
   "metadata": {},
   "outputs": [],
   "source": []
  }
 ],
 "metadata": {
  "kernelspec": {
   "display_name": "Python 3",
   "language": "python",
   "name": "python3"
  },
  "language_info": {
   "codemirror_mode": {
    "name": "ipython",
    "version": 3
   },
   "file_extension": ".py",
   "mimetype": "text/x-python",
   "name": "python",
   "nbconvert_exporter": "python",
   "pygments_lexer": "ipython3",
   "version": "3.7.1"
  }
 },
 "nbformat": 4,
 "nbformat_minor": 2
}
