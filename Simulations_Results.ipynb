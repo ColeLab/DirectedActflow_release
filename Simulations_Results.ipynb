{
 "cells": [
  {
   "cell_type": "code",
   "execution_count": 76,
   "metadata": {},
   "outputs": [],
   "source": [
    "import numpy as np\n",
    "import matplotlib.pyplot as plt\n",
    "import time\n",
    "import os\n",
    "import pseudoEmpiricalData\n",
    "import featureSelectRegression\n",
    "import CombinedFC.CombinedFCToolBox as cfc\n",
    "import ActflowToolbox as actflow\n",
    "import PCalg_wrapper"
   ]
  },
  {
   "cell_type": "code",
   "execution_count": 74,
   "metadata": {},
   "outputs": [
    {
     "name": "stdout",
     "output_type": "stream",
     "text": [
      "Main parameters of the simulations\n",
      "- number of simulations: 5\n",
      "- number of nodes: 200\n",
      "- connectivity density: 5.0%\n",
      "- edge coefficient range (-0.6,-0.1]U(0.1,0.6]\n",
      "- percentage of negative edges: 10.0%\n",
      "- tasks simulated: 1\n",
      "- precentage of nodes directly affected by the task: 10.0%\n",
      "- number of datapoints: 1000\n"
     ]
    }
   ],
   "source": [
    "# import the graphModel module from the CombinedFCToolBox\n",
    "from CombinedFC.CombinedFCToolBox import graphModel\n",
    "\n",
    "#number of repetitions of the simulation\n",
    "num_repetitions = 5\n",
    "\n",
    "# graphical model parameters\n",
    "num_nodes = 200\n",
    "density_edges = 0.05\n",
    "model_type = 'ErdosRenyi'\n",
    "#round and make an int (multiply by 2 because the model reduce the original density by half)\n",
    "num_edges = np.around(density_edges*2*(num_nodes*(num_nodes-1)/2)).astype(int)\n",
    "# number of datapoints for the simulated data\n",
    "sample_size = 1000\n",
    "# coefficients for the weights of the connectivity matrix\n",
    "min_coeff = 0.1\n",
    "max_coeff = 0.6\n",
    "# percentage of negative coefficients\n",
    "p_neg = 0.10\n",
    "\n",
    "#number of tasks to simulate\n",
    "num_tasks = 1\n",
    "#percentage of nodes directly affected by the task: T --> node_i\n",
    "p_nodes = 0.10\n",
    "#number of nodes directly affected by the task for this model\n",
    "Nt = np.around(p_nodes*num_nodes).astype(int)\n",
    "\n",
    "\n",
    "\n",
    "#PC \n",
    "m_PC =  np.zeros((num_nodes,num_nodes,num_repetitions))\n",
    "pred_act_PC = np.zeros((num_nodes,num_tasks,num_repetitions))\n",
    "time_PC = np.zeros((num_repetitions,))\n",
    "#PC_adjacencies\n",
    "m_PCadj =  np.zeros((num_nodes,num_nodes,num_repetitions))\n",
    "pred_act_PCadj = np.zeros((num_nodes,num_tasks,num_repetitions))\n",
    "\n",
    "print('Main parameters of the simulations')\n",
    "print(f'- number of simulations: {num_repetitions}')\n",
    "print(f'- number of nodes: {num_nodes}')\n",
    "print(f'- connectivity density: {density_edges*100}%')\n",
    "print(f'- edge coefficient range (-{max_coeff},-{min_coeff}]U({min_coeff},{max_coeff}]')\n",
    "print(f'- percentage of negative edges: {p_neg*100}%')\n",
    "print(f'- tasks simulated: {num_tasks}')\n",
    "print(f'- precentage of nodes directly affected by the task: {p_nodes*100}%')\n",
    "print(f'- number of datapoints: {sample_size}')"
   ]
  },
  {
   "cell_type": "markdown",
   "metadata": {},
   "source": [
    "### simulate data: resting-state, task-state and actual task activations NEED TO UPDATE WITH AMAREL VERSION"
   ]
  },
  {
   "cell_type": "code",
   "execution_count": 79,
   "metadata": {},
   "outputs": [
    {
     "name": "stdout",
     "output_type": "stream",
     "text": [
      "Resting state data (X_rest) and actual activations (actual_act) created\n",
      "the true resting-state network models are in W_rest\n",
      "for 5 simulations, and 1 task(s)\n"
     ]
    }
   ],
   "source": [
    "# simulate data: resting-state, task-state and actual task activations\n",
    "\n",
    "#initialize vectors to save true connectivity models and pseudoempirical data\n",
    "#one resting-state session for each repetition\n",
    "X_rest = np.empty((num_nodes,sample_size,num_repetitions))\n",
    "W_rest = np.empty((num_nodes,num_nodes,num_repetitions))\n",
    "# task state data has the additional dimension of number of tasks\n",
    "# need to add 1 for the task connectivity vector and task variable data\n",
    "X_task = np.empty((num_nodes+1,sample_size,num_tasks,num_repetitions))\n",
    "W_task = np.empty((num_nodes+1,num_nodes+1,num_tasks,num_repetitions))\n",
    "#actual activations\n",
    "actual_act = np.zeros((num_nodes,num_tasks,num_repetitions))\n",
    "\n",
    "\n",
    "for rep in range(num_repetitions):\n",
    "    #generate the random connectivity model, using the model_type graph model defined above\n",
    "    M = graphModel.graphModel(model_type, num_edges, num_nodes)\n",
    "\n",
    "    # 1. Simulate resting-state connectivity and pseudo-empirical data\n",
    "    # randomly choose a subject from which to sample the data\n",
    "    #subj_data = np.random.choice(num_subjs,1,replace=True)[0]\n",
    "    # choose subject data, only from the resting-state run 1: rfMRI_REST1_RL\n",
    "    #data_hcp = rest_data[:,0:1195,subj_data].T\n",
    "    data_hcp = np.random.normal(5,10,(1195,360))\n",
    "    #simulate resting state data X and connectivity matrix W, using the pseudoEmpirical_data function\n",
    "    X_rest[:,:,rep], W_rest[:,:,rep] = pseudoEmpiricalData.pseudoEmpiricalData(data = data_hcp, \n",
    "                                                               model = M, \n",
    "                                                               sample_size = sample_size,\n",
    "                                                               weights_given = False, \n",
    "                                                               min_coeff = min_coeff, \n",
    "                                                               max_coeff = max_coeff, \n",
    "                                                               p_neg = p_neg)\n",
    "    \n",
    "    \n",
    "    # 2. Simulate task-state connectivity\n",
    "    for j in range(num_tasks):\n",
    "        # initialize the new task matrix coefficents with a copy of the rest network\n",
    "        M_task = W_rest[:,:,rep].copy()\n",
    "        # compute the number of edges of the task connectivity matrix\n",
    "        num_edges_task = np.sum(M_task != 0) \n",
    "        # define the task network based on the resting-state network\n",
    "        # with some random variance added to the coefficients.\n",
    "        # add some variability to the coefficients so they do not end up being exactly the same as W_rest\n",
    "        # by summing or subtracting one standard deviation to the coefficient, or doing nothing.\n",
    "        std_coeff = np.std(M_task[M_task > 0].flatten())\n",
    "        # make a vector to randomly decide if std_coeff should be added, subtracted or do nothing\n",
    "        aux_vec = np.random.choice([+std_coeff,-std_coeff,0],size=(1,num_edges_task))\n",
    "        # create a new vector with the modfied values\n",
    "        task_weights = M_task[M_task.nonzero()] + aux_vec\n",
    "        # assign the new values to their position in M_task\n",
    "        M_task[M_task.nonzero()] =  task_weights\n",
    "        \n",
    "        # 3. Add the Task connectivity vector: which nodes are affected by the task variable\n",
    "        # sample Nt nodes from a num_nodes elements vector, without replacement to avoid choosing a node more than once\n",
    "        task_nodes = np.random.choice(np.arange(num_nodes),size=[1,Nt],replace=False)\n",
    "        # build the Task connectivity vector T\n",
    "        T = np.zeros((num_nodes,1))\n",
    "        # and assign a task-coefficient to the nodes affected by the task\n",
    "        T[task_nodes,0] = np.random.uniform(min_coeff,max_coeff, size=(1,Nt))\n",
    "        # add the T vector to the nodes connectivity matrix M_task\n",
    "        M_task = np.concatenate((M_task,T),axis=1)\n",
    "        # add a last row of zeros to make the matrix square\n",
    "        pad = np.zeros((1,num_nodes+1))\n",
    "        M_task = np.concatenate((M_task,pad), axis=0)\n",
    "        \n",
    "        #4. Create pseudo-empirical task-state data\n",
    "        #choose subject data, only from the resting-state run 1: rfMRI_REST1_RL\n",
    "        #data_hcp = rest_data[:,0:1195,subj_data].T\n",
    "        #simulate task data X and task connectivity matrix W, using the pseudo_data function\n",
    "        X_task[:,:,j,rep], W_task[:,:,j,rep] = pseudoEmpiricalData.pseudoEmpiricalData(data = data_hcp, \n",
    "                                                                   model = M_task, \n",
    "                                                                   sample_size = sample_size, \n",
    "                                                                   weights_given = True)\n",
    "        \n",
    "        \n",
    "        #5. compute the task activations using a GLM\n",
    "        data = X_task[:,:,j,rep].copy() #reshape to [datapoints x nodes]\n",
    "        for i in range(num_nodes):\n",
    "            #regress each node onto the task: task causal effect\n",
    "            #use reshape to convert 1D to proper 2D arrays for linear regression call\n",
    "            y = np.reshape(data[i,:],(-1,1))\n",
    "            #the task variable data is the last element of the data = X_task\n",
    "            task = np.reshape(data[-1,:],(-1,1))\n",
    "            #use the combinedFC toolbox function for regression\n",
    "            #no significance test threshold, use all the values.\n",
    "            b = cfc.simpleRegressionSig(y, task, sigTest = False)\n",
    "            # save the actual activations values [nodes x task x repetition]\n",
    "            actual_act[i,j,rep] = b\n",
    "            \n",
    "print('Resting state data (X_rest) and actual activations (actual_act) created')\n",
    "print('the true resting-state network models are in W_rest')\n",
    "print(f'for {num_tasks} task(s) and {num_repetitions} simulations')"
   ]
  },
  {
   "cell_type": "code",
   "execution_count": 80,
   "metadata": {},
   "outputs": [
    {
     "name": "stdout",
     "output_type": "stream",
     "text": [
      "Correlation FC matrices and activity flow predictions computed\n",
      "for 5 simulations, and 1 task(s)\n",
      "CPU times: user 131 ms, sys: 6.14 ms, total: 137 ms\n",
      "Wall time: 74.8 ms\n"
     ]
    }
   ],
   "source": [
    "%%time\n",
    "# correlation analysis of the resting-state data X_rest using combinedFC toolbox\n",
    "m_corr = np.empty((num_nodes,num_nodes,num_repetitions))\n",
    "pred_act_corr = np.empty((num_nodes,num_tasks,num_repetitions))\n",
    "time_corr = np.empty((num_repetitions,))\n",
    "\n",
    "for rep in range(num_repetitions):\n",
    "    start = time.time()\n",
    "    # FC computation\n",
    "    m_corr[:,:,rep] = cfc.correlationSig(X_rest[:,:,rep].T, alpha = 0.01)\n",
    "    #activity flow calculation using activity flow toolbox\n",
    "    for j in range(num_tasks):\n",
    "        pred_act_corr[:,j,rep] = actflow.actflowcalc(actual_act[:,j,rep], m_corr[:,:,rep])\n",
    "    #save running time\n",
    "    time_corr[rep] = time.time() - start\n",
    "\n",
    "print('Correlation FC matrices and activity flow predictions computed')\n",
    "print(f'for {num_tasks} task(s) and {num_repetitions} simulations')"
   ]
  },
  {
   "cell_type": "code",
   "execution_count": 84,
   "metadata": {},
   "outputs": [
    {
     "name": "stdout",
     "output_type": "stream",
     "text": [
      "Multiple regression FC matrices and activity flow predictions computed\n",
      "for 1 task(s) and 5 simulations\n",
      "CPU times: user 59.2 s, sys: 335 ms, total: 59.5 s\n",
      "Wall time: 18.5 s\n"
     ]
    }
   ],
   "source": [
    "%%time\n",
    "#multiple regression analysis of the resting-state data X_rest using combinedFC toolbox\n",
    "m_mreg = np.empty((num_nodes,num_nodes,num_repetitions))\n",
    "pred_act_mreg = np.empty((num_nodes,num_tasks,num_repetitions))\n",
    "time_mreg = np.empty((num_repetitions,))\n",
    "\n",
    "for rep in range(num_repetitions):\n",
    "    start = time.time()\n",
    "    # FC computation\n",
    "    m_mreg[:,:,rep] = cfc.multipleRegressionSig(X_rest[:,:,rep].T, alpha = 0.10, sigTest = True)\n",
    "    # activity flow calculation using activity flow toolbox\n",
    "    for j in range(num_tasks):\n",
    "        pred_act_mreg[:,j,rep] = actflow.actflowcalc(actual_act[:,j,rep], m_mreg[:,:,rep])\n",
    "    #save running time\n",
    "    time_mreg[rep] = time.time() - start\n",
    "\n",
    "print('Multiple regression FC matrices and activity flow predictions computed')\n",
    "print(f'for {num_tasks} task(s) and {num_repetitions} simulations')"
   ]
  },
  {
   "cell_type": "code",
   "execution_count": 83,
   "metadata": {},
   "outputs": [
    {
     "name": "stdout",
     "output_type": "stream",
     "text": [
      "CombinedFC matrices and activity flow predictions computed\n",
      "for 1 task(s) and 5 simulations\n",
      "CPU times: user 1.73 s, sys: 20.5 ms, total: 1.75 s\n",
      "Wall time: 1.05 s\n"
     ]
    }
   ],
   "source": [
    "%%time\n",
    "#combinedFC with feature selection analysis of resting-state data X_rest\n",
    "m_cfc =  np.empty((num_nodes,num_nodes,num_repetitions))\n",
    "pred_act_cfc = np.empty((num_nodes,num_tasks,num_repetitions))\n",
    "time_cfc = np.empty((num_repetitions,))\n",
    "\n",
    "for rep in range(num_repetitions):\n",
    "    start = time.time()\n",
    "    # FC computation\n",
    "    data = X_rest[:,:,rep].T\n",
    "    M_aux = cfc.combinedFC(data,\n",
    "                         methodCondAsso = 'partialCorrelation',\n",
    "                         alphaCondAsso = 0.01,\n",
    "                         methodAsso = 'correlation',\n",
    "                         alphaAsso = 0.10)\n",
    "    \n",
    "    m_cfc[:,:,rep] = featureSelectRegression.featureSelectRegression(M_aux, data, typ='symmetric')\n",
    "    # activity flow calculation using activity flow toolbox    \n",
    "    for j in range(num_tasks):\n",
    "        pred_act_cfc[:,j,rep] = actflow.actflowcalc(actual_act[:,j,rep], m_cfc[:,:,rep])\n",
    "    #save running time\n",
    "    time_cfc[rep] = time.time() - start\n",
    "    \n",
    "print('CombinedFC matrices and activity flow predictions computed')\n",
    "print(f'for {num_tasks} task(s) and {num_repetitions} simulations')"
   ]
  },
  {
   "cell_type": "code",
   "execution_count": 85,
   "metadata": {},
   "outputs": [
    {
     "name": "stdout",
     "output_type": "stream",
     "text": [
      "graph 0\n",
      "graph 1\n",
      "graph 2\n",
      "graph 3\n",
      "graph 4\n",
      "PC and PC-adjacencies matrices and activity flow predictions computed\n",
      "for 1 task(s) and 5 simulations\n",
      "CPU times: user 3.04 s, sys: 133 ms, total: 3.17 s\n",
      "Wall time: 1min 16s\n"
     ]
    }
   ],
   "source": [
    "%%time\n",
    "#PC algorithm FC analysis of resting-state data X_rest\n",
    "m_PC =  np.empty((num_nodes,num_nodes,num_repetitions))\n",
    "pred_act_PC = np.empty((num_nodes,num_tasks,num_repetitions))\n",
    "time_PC = np.empty((num_repetitions,))\n",
    "#PC-adjacencies\n",
    "m_PCadj =  np.empty((num_nodes,num_nodes,num_repetitions))\n",
    "pred_act_PCadj = np.empty((num_nodes,num_tasks,num_repetitions))\n",
    "\n",
    "current_dir = os.getcwd()\n",
    "\n",
    "for rep in range(num_repetitions):\n",
    "    start = time.time()\n",
    "    # FC computation\n",
    "    #temporary save data for PC. The algorithm requires a txt file as input\n",
    "    data = X_rest[:,:,rep].T\n",
    "    #reuse the same name to avoid ending up with too many txt files\n",
    "    inputData = f'{current_dir}/temp/data_temp.txt'\n",
    "    np.savetxt(inputData, data, fmt='%0.6f', delimiter=',')\n",
    "    #define output directory, output name and Tetrad path\n",
    "    outDir = f'{current_dir}/temp'\n",
    "    outName = 'PCgraph_temp'\n",
    "    tetrad_path = f'{current_dir}/tetrad_causal-cmd-1.1.3/causal-cmd-1.1.3-jar-with-dependencies.jar'\n",
    "    #call PC\n",
    "    PCalg_wrapper.PCalg_run(inputData, outDir, outName, tetrad_path, alpha = 0.01)\n",
    "    #transform the PC output graph into a numpy array\n",
    "    PC_graph = PCalg_wrapper.tetrad2matrix(f'{outDir}/{outName}.txt')\n",
    "    print(f'graph {rep}')\n",
    "    \n",
    "    #Use the set of parents as regressors y = bPa(X) + e, to get a weighted directed matrix\n",
    "    m_PC[:,:,rep] = featureSelectRegression.featureSelectRegression(PC_graph, data, typ='parents')\n",
    "    #activity flow calculation using activity flow toolbox\n",
    "    for j in range(num_tasks):\n",
    "        pred_act_PC[:,j,rep] = actflow.actflowcalc(actual_act[:,j,rep], m_PC[:,:,rep])\n",
    "    time_PC[rep] = time.time() - start\n",
    "\n",
    "    #Use the adjacencies of the PC results: parents and children: y = bPa(X) + cCh(x),\n",
    "    m_PCadj[:,:,rep] = featureSelectRegression.featureSelectRegression(PC_graph, data, typ='adjacencies')\n",
    "    #activity flow calculation using activity flow toolbox\n",
    "    for j in range(num_tasks): \n",
    "        pred_act_PCadj[:,j,rep] = actflow.actflowcalc(actual_act[:,j,rep], m_PCadj[:,:,rep])\n",
    "        \n",
    "print('PC and PC-adjacencies matrices and activity flow predictions computed')\n",
    "print(f'for {num_tasks} task(s) and {num_repetitions} simulations')"
   ]
  },
  {
   "cell_type": "markdown",
   "metadata": {},
   "source": [
    "### plot adjacency network recovery results"
   ]
  },
  {
   "cell_type": "code",
   "execution_count": 87,
   "metadata": {},
   "outputs": [
    {
     "name": "stdout",
     "output_type": "stream",
     "text": [
      "median precision across 5 repetitions\n",
      " correlation   : 0.10965395635882742\n",
      " mul.reg       : 0.22835633626097868\n",
      " combinedFC    : 0.64296875\n",
      " PC-adjacencies: 0.9756944444444444\n",
      " PC algorithm  : 0.9756944444444444\n"
     ]
    },
    {
     "data": {
      "image/png": "[encoded data removed]",
      "text/plain": [
       "<Figure size 468x360 with 1 Axes>"
      ]
     },
     "metadata": {
      "needs_background": "light"
     },
     "output_type": "display_data"
    },
    {
     "name": "stdout",
     "output_type": "stream",
     "text": [
      "median recall across 5 repetitions\n",
      " correlation   : 0.9585741811175337\n",
      " mul.reg       : 0.9285714285714286\n",
      " combinedFC    : 0.8427991886409736\n",
      " PC-adjacencies: 0.579107505070994\n",
      " PC algorithm  : 0.579107505070994\n"
     ]
    },
    {
     "data": {
      "image/png": "[encoded data removed]",
      "text/plain": [
       "<Figure size 468x360 with 1 Axes>"
      ]
     },
     "metadata": {
      "needs_background": "light"
     },
     "output_type": "display_data"
    }
   ],
   "source": [
    "#compute goodness of recovery of true resting-state networks\n",
    "#use precision and recall as measures. See Figure 2 in paper for details\n",
    "#use precision and recall functions from the combinedFC toolbox\n",
    "def accuracy_connectivity(inferred_model, true_model):\n",
    "    ''''\n",
    "    both input arrays should be dim:[num_nodes x num_nodes x num_repetitions]\n",
    "    '''\n",
    "    #get the number of repetitions. it should be the 3rd dimension of inferred_model\n",
    "    num_repetitions = inferred_model.shape[2]\n",
    "    #initialize arrays for results\n",
    "    precision = np.empty((num_repetitions))\n",
    "    recall = np.empty((num_repetitions))\n",
    "    \n",
    "    for rep in range(num_repetitions):\n",
    "        # precision = true positives / [true positives + false positives]\n",
    "        precision[rep] = cfc.precision(inferred_model[:,:,rep], true_model[:,:,rep])\n",
    "        # recall = true positives / [true positives + false negatives]\n",
    "        recall[rep] = cfc.recall(inferred_model[:,:,rep], true_model[:,:,rep])\n",
    "    return precision, recall\n",
    "\n",
    "\n",
    "#call the accuracy computation function for each FC method tested\n",
    "#W_rest contains the true resting-state connectivity matrices\n",
    "corr_precision, corr_recall = accuracy_connectivity(m_corr, W_rest)  \n",
    "mreg_precision, mreg_recall = accuracy_connectivity(m_mreg, W_rest)  \n",
    "cfc_precision, cfc_recall = accuracy_connectivity(m_cfc, W_rest)  \n",
    "PC_precision, PC_recall = accuracy_connectivity(m_PC, W_rest)  \n",
    "PCadj_precision, PCadj_recall = accuracy_connectivity(m_PCadj,W_rest)  \n",
    "\n",
    "#consolidate precision results for bar plotting\n",
    "results_precision = [corr_precision, mreg_precision, cfc_precision, PCadj_precision, PC_precision]\n",
    "#print median precision across repetitions for each method\n",
    "print(f'median precision across {num_repetitions} repetitions')\n",
    "print(f' correlation   : {np.median(corr_precision)}')\n",
    "print(f' mul.reg       : {np.median(mreg_precision)}')\n",
    "print(f' combinedFC    : {np.median(cfc_precision)}')\n",
    "print(f' PC-adjacencies: {np.median(PCadj_precision)}')\n",
    "print(f' PC algorithm  : {np.median(PC_precision)}')\n",
    "#plot\n",
    "fig, ax = plt.subplots(figsize=(6.5,5)) \n",
    "bp = ax.boxplot(results_precision,showfliers=False,patch_artist = True)\n",
    "for box in bp['boxes']:\n",
    "    # change fill color\n",
    "    box.set( facecolor = 'white' )\n",
    "for median in bp['medians']:\n",
    "    median.set(linewidth=2)\n",
    "plt.title('Network recovery: Precision',fontsize=20)\n",
    "plt.yticks(fontsize=17)\n",
    "plt.tick_params(axis='x',direction='inout',length=10)\n",
    "plt.ylim(0,1)\n",
    "plt.xticks(np.arange(1,6,1),('corr','mulReg','combFC','PCadj','PC'),fontsize=17,rotation=0)\n",
    "ax.spines['top'].set_visible(False)\n",
    "ax.spines['right'].set_visible(False)\n",
    "ax.set_facecolor('whitesmoke')\n",
    "ax.grid(True,color='white',linewidth=2)\n",
    "plt.show()\n",
    "# uncomment to save the plot as a pdf file \n",
    "#plt.savefig('SimulationPrecision.pdf',bbox_inches='tight')\n",
    "\n",
    "\n",
    "#consolidate recall results\n",
    "results_recall = [corr_recall, mreg_recall, cfc_recall,PCadj_recall,PC_recall]\n",
    "#print median recall across across repetitions for each method\n",
    "print(f'median recall across {num_repetitions} repetitions')\n",
    "print(f' correlation   : {np.median(corr_recall)}')\n",
    "print(f' mul.reg       : {np.median(mreg_recall)}')\n",
    "print(f' combinedFC    : {np.median(cfc_recall)}')\n",
    "print(f' PC-adjacencies: {np.median(PCadj_recall)}')\n",
    "print(f' PC algorithm  : {np.median(PC_recall)}')\n",
    "#plot\n",
    "fig, ax = plt.subplots(figsize=(6.5,5)) \n",
    "bp = ax.boxplot(results_recall,showfliers=False,patch_artist = True)\n",
    "for box in bp['boxes']:\n",
    "    # change fill color\n",
    "    box.set( facecolor = 'white' )\n",
    "for median in bp['medians']:\n",
    "    median.set(linewidth=2)\n",
    "plt.title('Network recovery: Recall',fontsize=20)\n",
    "plt.yticks(fontsize=17)\n",
    "plt.tick_params(axis='x',direction='inout',length=10)\n",
    "plt.ylim(0,1)\n",
    "plt.xticks(np.arange(1,6,1),('corr','mulReg','combFC','PCadj','PC'),fontsize=17,rotation=0)\n",
    "ax.spines['top'].set_visible(False)\n",
    "ax.spines['right'].set_visible(False)\n",
    "ax.set_facecolor('whitesmoke')\n",
    "ax.grid(True,color='white',linewidth=2)\n",
    "plt.show()\n",
    "# uncomment to save the plot as a pdf file\n",
    "#plt.savefig('SimulationRecall.pdf',bbox_inches='tight')"
   ]
  },
  {
   "cell_type": "markdown",
   "metadata": {},
   "source": [
    "### plot activity flow predicted activations"
   ]
  },
  {
   "cell_type": "code",
   "execution_count": 88,
   "metadata": {},
   "outputs": [
    {
     "name": "stdout",
     "output_type": "stream",
     "text": [
      "median prediction accuracy (r) across 5 repetitions and 1 task(s)\n",
      " correlation   : 0.6839529995434812\n",
      " mul.reg       : 0.8251311200448085\n",
      " combinedFC    : 0.8825328069942286\n",
      " PC-adjacencies: 0.8568773384623135\n",
      " PC algorithm  : 0.7502974416509158\n"
     ]
    },
    {
     "data": {
      "image/png": "[encoded data removed]",
      "text/plain": [
       "<Figure size 468x360 with 1 Axes>"
      ]
     },
     "metadata": {
      "needs_background": "light"
     },
     "output_type": "display_data"
    }
   ],
   "source": [
    "#compute accuracy of activity flow predictions using Pearson correlation.\n",
    "def accuracy_activations(predicted_act, actual_act):\n",
    "    '''\n",
    "    both input arrays should be dim:[num_nodes x num_tasks x num_repetitions]\n",
    "    '''\n",
    "    #get the number of repetitions. it should be the 3rd dimension of predicted_act array\n",
    "    num_repetitions = predicted_act.shape[2]\n",
    "    num_tasks = predicted_act.shape[1]\n",
    "    #initialize array for results\n",
    "    acc = np.empty((num_repetitions,num_tasks))\n",
    "    #compute correlation between the predicted and actual vector of predictions node-wise\n",
    "    #independently for each task\n",
    "    for j in range(num_tasks):\n",
    "        for rep in range(num_repetitions):\n",
    "            acc[rep,j] = np.corrcoef(actual_act[:,j,rep],predicted_act[:,j,rep])[0,1]\n",
    "    return acc\n",
    "\n",
    "\n",
    "#compute activity flow predictions for each method\n",
    "#if there are more than 1 task, first average results across task for each subject\n",
    "corr_acc = np.mean(accuracy_activations(actual_act, pred_act_corr),axis=1)  \n",
    "mreg_acc = np.mean(accuracy_activations(actual_act, pred_act_mreg),axis=1)\n",
    "cfc_acc = np.mean(accuracy_activations(actual_act, pred_act_cfc),axis=1)\n",
    "PCadj_acc = np.mean(accuracy_activations(actual_act, pred_act_PCadj),axis=1) \n",
    "PC_acc = np.mean(accuracy_activations(actual_act, pred_act_PC),axis=1)  \n",
    "\n",
    "#consolidate results for bar plotting\n",
    "results_prediction = [corr_acc, mreg_acc, cfc_acc, PCadj_acc, PC_acc]\n",
    "#print median precision across repetitions for each method\n",
    "print(f'median prediction accuracy (r) across {num_repetitions} repetitions and {num_tasks} task(s)')\n",
    "print(f' correlation   : {np.median(corr_acc)}')\n",
    "print(f' mul.reg       : {np.median(mreg_acc)}')\n",
    "print(f' combinedFC    : {np.median(cfc_acc)}')\n",
    "print(f' PC-adjacencies: {np.median(PCadj_acc)}')\n",
    "print(f' PC algorithm  : {np.median(PC_acc)}')\n",
    "#plot\n",
    "fig, ax = plt.subplots(figsize=(6.5,5)) \n",
    "bp = ax.boxplot(results_prediction,showfliers=False,patch_artist = True)\n",
    "for box in bp['boxes']:\n",
    "    # change fill color\n",
    "    box.set( facecolor = 'white' )\n",
    "for median in bp['medians']:\n",
    "    median.set(linewidth=2)\n",
    "plt.title('Actflow prediction accuracy', fontsize=20)\n",
    "plt.ylabel('Pearson r',fontsize=20)\n",
    "plt.yticks(fontsize=17)\n",
    "plt.tick_params(axis='x',direction='inout',length=10)\n",
    "plt.ylim(0,1)\n",
    "plt.xticks(np.arange(1,6,1),('corr','mulReg','combFC','PCadj','PC'),fontsize=17,rotation=0)\n",
    "ax.spines['top'].set_visible(False)\n",
    "ax.spines['right'].set_visible(False)\n",
    "ax.set_facecolor('whitesmoke')\n",
    "ax.grid(True,color='white',linewidth=2)\n",
    "# uncomment to save plot as pdf\n",
    "#plt.savefig('SimulationPredictionAccuracy.pdf',bbox_inches='tight')"
   ]
  },
  {
   "cell_type": "markdown",
   "metadata": {},
   "source": [
    "### plot number of predictors for activity flow prediction"
   ]
  },
  {
   "cell_type": "code",
   "execution_count": 89,
   "metadata": {},
   "outputs": [
    {
     "name": "stdout",
     "output_type": "stream",
     "text": [
      "median number of predictors across 5 repetitions\n",
      " correlation   : 90.57\n",
      " mul.reg       : 40.31\n",
      " combinedFC    : 13.19\n",
      " PC-adjacencies: 5.98\n",
      " PC algorithm  : 2.99\n",
      "median indegree of the true networks is: 4.93\n"
     ]
    },
    {
     "data": {
      "image/png": "[encoded data removed]",
      "text/plain": [
       "<Figure size 468x360 with 1 Axes>"
      ]
     },
     "metadata": {
      "needs_background": "light"
     },
     "output_type": "display_data"
    }
   ],
   "source": [
    "#number of possible predictors (also known as compactness)\n",
    "#the more predictors (sources), the more complex is the predictive model\n",
    "def compactness(inferred_model):\n",
    "    num_repetitions = inferred_model.shape[2]\n",
    "    compact = np.empty((num_repetitions))\n",
    "    for rep in range(num_repetitions):\n",
    "        #average of number of sources across all the nodes in the inferred network\n",
    "        compact[rep] = np.mean(np.sum(inferred_model[:,:,rep]!=0,axis=1))   \n",
    "    return compact\n",
    "\n",
    "#define average number of predictors for each method, for the inferred FC network\n",
    "corr_compact = compactness(m_corr)\n",
    "mreg_compact = compactness(m_mreg)\n",
    "cfc_compact = compactness(m_cfc)\n",
    "PCadj_compact = compactness(m_PCadj)\n",
    "PC_compact = compactness(m_PC)\n",
    "#consolidate results for bar plot\n",
    "results_compactness = [corr_compact,mreg_compact, cfc_compact, PCadj_compact, PC_compact]\n",
    "#print median number of predictors across repetitions for each method\n",
    "print(f'median number of predictors across {num_repetitions} repetitions')\n",
    "print(f' correlation   : {np.median(corr_compact)}')\n",
    "print(f' mul.reg       : {np.median(mreg_compact)}')\n",
    "print(f' combinedFC    : {np.median(cfc_compact)}')\n",
    "print(f' PC-adjacencies: {np.median(PCadj_compact)}')\n",
    "print(f' PC algorithm  : {np.median(PC_compact)}')\n",
    "#the median in-degree of the true models, for comparison\n",
    "indegree = np.empty((num_repetitions))\n",
    "for rep in range(num_repetitions):\n",
    "    #average of number of sources across all the nodes in the inferred network\n",
    "    indegree[rep] = np.mean(np.sum(W_rest[:,:,rep]!=0,axis=1))\n",
    "print(f'median indegree of the true networks is: {np.median(indegree)}')   \n",
    "#plot\n",
    "fig, ax = plt.subplots(figsize=(6.5,5)) \n",
    "bp = ax.boxplot(results_compactness,showfliers=False,patch_artist = True)\n",
    "for box in bp['boxes']:\n",
    "    # change fill color\n",
    "    box.set( facecolor = 'white' )\n",
    "for median in bp['medians']:\n",
    "    median.set(linewidth=2)\n",
    "plt.title('Number of predictors',fontsize=20)\n",
    "plt.yticks(fontsize=17)\n",
    "plt.tick_params(axis='x',direction='inout',length=10)\n",
    "plt.yscale('log')\n",
    "plt.ylabel('log scale', fontsize=20)\n",
    "plt.xticks(np.arange(1,6,1),('corr','mulReg','combFC','PCadj','PC'),fontsize=17,rotation=0)\n",
    "ax.spines['top'].set_visible(False)\n",
    "ax.spines['right'].set_visible(False)\n",
    "ax.set_facecolor('whitesmoke')\n",
    "ax.grid(True,color='white',linewidth=2)\n",
    "# uncomment to save plot as pdf\n",
    "#plt.savefig('SimulationNumberOfPredictors_log.pdf',bbox_inches='tight')"
   ]
  },
  {
   "cell_type": "markdown",
   "metadata": {},
   "source": [
    "### plot running time"
   ]
  },
  {
   "cell_type": "code",
   "execution_count": 90,
   "metadata": {},
   "outputs": [
    {
     "name": "stdout",
     "output_type": "stream",
     "text": [
      "median running time (sec) across 5 repetitions\n",
      " correlation   : 0.015616178512573242\n",
      " mul.reg       : 3.2469160556793213\n",
      " combinedFC    : 0.17225408554077148\n",
      " PC-adjacencies: 11.5913667678833\n",
      " PC algorithm  : 11.5913667678833\n"
     ]
    },
    {
     "data": {
      "image/png": "[encoded data removed]",
      "text/plain": [
       "<Figure size 468x360 with 1 Axes>"
      ]
     },
     "metadata": {
      "needs_background": "light"
     },
     "output_type": "display_data"
    }
   ],
   "source": [
    "#consolidate results for barplots\n",
    "results_time = [time_corr, time_mreg, time_cfc,time_PC,time_PC]\n",
    "#print median running times across repetitions for each method\n",
    "print(f'median running time (sec) across {num_repetitions} repetitions')\n",
    "print(f' correlation   : {np.median(time_corr)}')\n",
    "print(f' mul.reg       : {np.median(time_mreg)}')\n",
    "print(f' combinedFC    : {np.median(time_cfc)}')\n",
    "print(f' PC-adjacencies: {np.median(time_PC)}')\n",
    "print(f' PC algorithm  : {np.median(time_PC)}')\n",
    "#plot\n",
    "fig, ax = plt.subplots(figsize=(6.5,5)) \n",
    "bp = ax.boxplot(results_time,showfliers=False,patch_artist = True)\n",
    "for box in bp['boxes']:\n",
    "    # change fill color\n",
    "    box.set( facecolor = 'white' )\n",
    "for median in bp['medians']:\n",
    "    median.set(linewidth=2)\n",
    "plt.title('Running time',fontsize=20,y=1.02)\n",
    "plt.yticks(fontsize=17)\n",
    "plt.tick_params(axis='x',direction='inout',length=10)\n",
    "plt.ylabel('seconds',fontsize=20)\n",
    "plt.xticks(np.arange(1,6,1),('corr','mulReg','combFC','PCadj','PC'),fontsize=17,rotation=0)\n",
    "ax.spines['top'].set_visible(False)\n",
    "ax.spines['right'].set_visible(False)\n",
    "ax.set_facecolor('whitesmoke')\n",
    "ax.grid(True,color='white',linewidth=2)\n",
    "# uncomment to save plot as pdf\n",
    "#plt.savefig('SimulationRunningTimes.pdf', bbox_inches='tight')"
   ]
  },
  {
   "cell_type": "markdown",
   "metadata": {},
   "source": [
    "### define accuracy of oriented edges for the PC algorithm NEED TO UPDATE WITH THE CYCLIC VERSION"
   ]
  },
  {
   "cell_type": "code",
   "execution_count": 91,
   "metadata": {},
   "outputs": [
    {
     "name": "stdout",
     "output_type": "stream",
     "text": [
      "proportion of correctly oriented true positive adjacencies for the PC algorithm\n",
      "median across 5 repetitions\n",
      "78.11387900355872%\n"
     ]
    }
   ],
   "source": [
    "#compute the proportion of correctly oriented edges from the correctly inferred adjacencies (true positives)\n",
    "def accuracy_orientations(inferred_model, true_model):\n",
    "    #get the number of repetitions. it should be the 3rd dimension of the inferred_model\n",
    "    num_repetitions = inferred_model.shape[2]\n",
    "    correct_orientations = np.empty((num_repetitions))\n",
    "    for rep in range(num_repetitions):\n",
    "        correct_orientations[rep] = correctOrientations(inferred_model[:,:,rep], true_model[:,:,rep])\n",
    "    return correct_orientations\n",
    "\n",
    "def correctOrientations(inferred_model, true_model):\n",
    "    #Binarize the inferred connectivity network and the true connectivity network\n",
    "    inferred_model = (inferred_model != 0).astype(int)\n",
    "    true_model = (true_model != 0).astype(int)\n",
    "    num_nodes = inferred_model.shape[0]\n",
    "    #Number of correctly oriented edges\n",
    "    c_o = 0   \n",
    "    for i in range(num_nodes):\n",
    "        for j in range(num_nodes):\n",
    "            #check if an edge is present\n",
    "            if inferred_model[i,j] == 1:\n",
    "                #check if the orientation is correct\n",
    "                if inferred_model[i,j] == true_model[i,j]:\n",
    "                    c_o = c_o + 1 \n",
    "    #Number of true positive edges\n",
    "    Tp = 0\n",
    "    for i in range(num_nodes):\n",
    "        for j in range(num_nodes):\n",
    "            if inferred_model[i,j] == 1:\n",
    "                if inferred_model[i,j] == true_model[i,j] or inferred_model[i,j] == true_model[j,i]:\n",
    "                    Tp = Tp + 1             \n",
    "    #return the proportion of corrently oriented true positive adjacencies.\n",
    "    return c_o/Tp\n",
    "\n",
    "#compute the proportion of corrently oriented true positive adjacencies for PC\n",
    "PC_correct_orientations = accuracy_orientations(m_PC, W_rest)\n",
    "print('proportion of correctly oriented true positive adjacencies for the PC algorithm')\n",
    "print(f'median across {num_repetitions} repetitions')\n",
    "print(f'{np.median(PC_correct_orientations)*100}%')"
   ]
  }
 ],
 "metadata": {
  "kernelspec": {
   "display_name": "Python 3",
   "language": "python",
   "name": "python3"
  },
  "language_info": {
   "codemirror_mode": {
    "name": "ipython",
    "version": 3
   },
   "file_extension": ".py",
   "mimetype": "text/x-python",
   "name": "python",
   "nbconvert_exporter": "python",
   "pygments_lexer": "ipython3",
   "version": "3.7.1"
  }
 },
 "nbformat": 4,
 "nbformat_minor": 2
}
